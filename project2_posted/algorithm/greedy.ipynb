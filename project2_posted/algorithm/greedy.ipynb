{
 "cells": [
  {
   "cell_type": "code",
   "execution_count": null,
   "metadata": {
    "collapsed": true
   },
   "outputs": [],
   "source": [
    "import pandas as pd\n",
    "import geopandas as gpd\n",
    "from matplotlib import pyplot as plt"
   ]
  },
  {
   "cell_type": "code",
   "execution_count": null,
   "metadata": {
    "collapsed": true
   },
   "outputs": [],
   "source": [
    "empinfo = pd.read_csv('UT_asu_exampleData.csv', thousands=',')\n",
    "empinfo.set_index('geoid', inplace=True)"
   ]
  },
  {
   "cell_type": "code",
   "execution_count": null,
   "metadata": {
    "collapsed": true
   },
   "outputs": [],
   "source": [
    "emp = empinfo[['name', 'pop', 'emp', 'unemp']]"
   ]
  },
  {
   "cell_type": "code",
   "execution_count": null,
   "metadata": {
    "collapsed": true
   },
   "outputs": [],
   "source": [
    "geoinfo = gpd.read_file('tl_2016_49_tract/tl_2016_49_tract.shp')\n",
    "geoinfo['geoid'] = geoinfo['GEOID'].astype(str).astype(int)\n",
    "geoinfo.set_index('geoid', inplace=True)"
   ]
  },
  {
   "cell_type": "code",
   "execution_count": null,
   "metadata": {
    "collapsed": true
   },
   "outputs": [],
   "source": [
    "geo = geoinfo[['geometry']]"
   ]
  },
  {
   "cell_type": "code",
   "execution_count": null,
   "metadata": {
    "collapsed": true
   },
   "outputs": [],
   "source": [
    "# emp2 = empinfo[['name', 'pop', 'emp', 'unemp']]\n",
    "# geo2 = geoinfo[['GEOID', 'geometry']]\n",
    "# d3 = geo2.merge(emp2, left_index=True, right_index=True)\n",
    "# d3 = d3.rename(columns={'GEOID':'geoid'})\n",
    "# d3.to_file('../vis/utah.json', driver=\"GeoJSON\")"
   ]
  },
  {
   "cell_type": "code",
   "execution_count": null,
   "metadata": {
    "collapsed": true
   },
   "outputs": [],
   "source": [
    "data = geo.merge(emp, left_index=True, right_index=True)\n",
    "data['seed'] = data['unemp']/(data['emp']+data['unemp']) >= 0.065\n",
    "data['count'] = 1"
   ]
  },
  {
   "cell_type": "code",
   "execution_count": null,
   "metadata": {
    "collapsed": true
   },
   "outputs": [],
   "source": [
    "def union(data, p, q):\n",
    "    for i, r in data.iterrows():\n",
    "        if (r['group'] == q):\n",
    "            data.loc[i, 'group'] = p"
   ]
  },
  {
   "cell_type": "code",
   "execution_count": null,
   "metadata": {
    "collapsed": true
   },
   "outputs": [],
   "source": [
    "def expand(rawdata):\n",
    "    data = rawdata.copy()\n",
    "    t = 0\n",
    "    while (True):\n",
    "        nseeds = data[data['seed'] > 0.0].shape[0]\n",
    "        cnt= 0\n",
    "        for index, row in data.iterrows():\n",
    "            if (row['seed'] < 1.0):\n",
    "                continue;\n",
    "            maxrate = 0\n",
    "            maxgeoid = 0\n",
    "            counter = 0\n",
    "            for i, r in data.iterrows():\n",
    "                if (i == index):\n",
    "                    continue;\n",
    "                if (r['geometry'].touches(row['geometry'])):\n",
    "                    if (r['unemp'] + r['emp'] == 0):\n",
    "                        rate = 0\n",
    "                    else:\n",
    "                        rate = r['unemp'] / (r['unemp'] + r['emp'])\n",
    "                    if (rate > maxrate):\n",
    "                        counter += 1\n",
    "                        maxrate = rate\n",
    "                        maxgeoid = i\n",
    "            if (counter == 1):\n",
    "                for i, r in data.iterrows():\n",
    "                    if (i == index):\n",
    "                        continue;\n",
    "                    maxpop = 0\n",
    "                    if (r['geometry'].touches(row['geometry'])):\n",
    "                        if ((r['unemp'] + row['unemp']) / (r['unemp'] + row['unemp'] + r['emp'] + row['emp']) >= 0.065):\n",
    "                            maxpop = r['pop']\n",
    "                            maxgeoid = i\n",
    "            candidate = data.loc[maxgeoid]\n",
    "            newemp = row['emp'] + candidate['emp']\n",
    "            newunemp = row['unemp'] + candidate['unemp']\n",
    "            if (newemp + newunemp == 0):\n",
    "                newrate = 0\n",
    "            else:\n",
    "                newrate = newunemp / (newunemp + newemp)\n",
    "            if (newrate >= 0.065):\n",
    "                data['group'] = data.index\n",
    "                union(data, index, maxgeoid)\n",
    "                data = data.dissolve(by='group', aggfunc='sum')\n",
    "            else:\n",
    "                cnt += 1\n",
    "        print('{} != {}'.format(nseeds, cnt))\n",
    "        if (nseeds == cnt):\n",
    "            break;\n",
    "    return data"
   ]
  },
  {
   "cell_type": "code",
   "execution_count": null,
   "metadata": {},
   "outputs": [],
   "source": [
    "newdata = expand(data)"
   ]
  },
  {
   "cell_type": "code",
   "execution_count": null,
   "metadata": {},
   "outputs": [],
   "source": [
    "newdata.plot(figsize=(5, 5), column='seed')\n",
    "plt.show()"
   ]
  },
  {
   "cell_type": "code",
   "execution_count": null,
   "metadata": {
    "collapsed": true
   },
   "outputs": [],
   "source": [
    "high = newdata[newdata['seed'] > 0.0]\n",
    "low = newdata[newdata['seed'] == 0.0]"
   ]
  },
  {
   "cell_type": "code",
   "execution_count": null,
   "metadata": {
    "collapsed": true
   },
   "outputs": [],
   "source": [
    "components = []\n",
    "asu = set()\n",
    "for index, row in high.iterrows():\n",
    "    component = set()\n",
    "    for i, r in data.iterrows():\n",
    "        if (row['geometry'].contains(r['geometry'])):\n",
    "            component.add(i)\n",
    "            asu.add(i)\n",
    "    components.append(component)"
   ]
  },
  {
   "cell_type": "code",
   "execution_count": null,
   "metadata": {
    "collapsed": true,
    "scrolled": true
   },
   "outputs": [],
   "source": [
    "highresult = high.drop('geometry', axis=1)\n",
    "highresult['rate'] = highresult['unemp'] / (highresult['unemp'] + highresult['emp'])\n",
    "highresult = highresult.join(pd.Series(components, index=highresult.index, name='components'))\n",
    "highresult.reset_index(drop=True).to_csv('greedy_high.csv')"
   ]
  },
  {
   "cell_type": "code",
   "execution_count": null,
   "metadata": {
    "collapsed": true
   },
   "outputs": [],
   "source": [
    "lowresult = low.drop('geometry', axis=1)\n",
    "lowresult['rate'] = lowresult['unemp'] / (lowresult['unemp'] + lowresult['emp'])\n",
    "lowresult['components'] = lowresult.index\n",
    "lowresult.reset_index(drop=True).to_csv('greedy_low.csv')"
   ]
  },
  {
   "cell_type": "code",
   "execution_count": null,
   "metadata": {
    "collapsed": true
   },
   "outputs": [],
   "source": [
    "for i in range(len(components)):\n",
    "    result2 = emp.loc[components[i]]\n",
    "    result2json = result2.to_json(orient='index')\n",
    "    with open('asu'+str(i+1)+'.json', 'w') as f:\n",
    "        f.write(result2json)"
   ]
  },
  {
   "cell_type": "code",
   "execution_count": null,
   "metadata": {
    "collapsed": true
   },
   "outputs": [],
   "source": [
    "result2 = emp.loc[asu]\n",
    "result2json = result2.to_json(orient='index')\n",
    "with open('asu.json', 'w') as f:\n",
    "    f.write(result2json)"
   ]
  },
  {
   "cell_type": "code",
   "execution_count": null,
   "metadata": {
    "collapsed": true
   },
   "outputs": [],
   "source": []
  }
 ],
 "metadata": {
  "kernelspec": {
   "display_name": "Python 3",
   "language": "python",
   "name": "python3"
  },
  "language_info": {
   "codemirror_mode": {
    "name": "ipython",
    "version": 3
   },
   "file_extension": ".py",
   "mimetype": "text/x-python",
   "name": "python",
   "nbconvert_exporter": "python",
   "pygments_lexer": "ipython3",
   "version": "3.6.3"
  }
 },
 "nbformat": 4,
 "nbformat_minor": 2
}
